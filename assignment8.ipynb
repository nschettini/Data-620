{
 "cells": [
  {
   "cell_type": "markdown",
   "metadata": {},
   "source": [
    "# Assignment 8\n",
    "\n",
    "Nick Schettini and Amanda Arce\n",
    "\n",
    "Assignment – High Frequency Words"
   ]
  },
  {
   "cell_type": "code",
   "execution_count": 12,
   "metadata": {},
   "outputs": [],
   "source": [
    "import nltk \n",
    "import pandas as pd\n",
    "import numpy as np\n",
    "import matplotlib.pyplot as plt\n",
    "%matplotlib inline"
   ]
  },
  {
   "cell_type": "markdown",
   "metadata": {},
   "source": [
    "### 1. Choose a corpus of interest."
   ]
  },
  {
   "cell_type": "code",
   "execution_count": 2,
   "metadata": {},
   "outputs": [],
   "source": [
    "from nltk.corpus import gutenberg"
   ]
  },
  {
   "cell_type": "code",
   "execution_count": 3,
   "metadata": {},
   "outputs": [
    {
     "data": {
      "text/plain": [
       "192427"
      ]
     },
     "execution_count": 3,
     "metadata": {},
     "output_type": "execute_result"
    }
   ],
   "source": [
    "emma = nltk.corpus.gutenberg.words('austen-emma.txt')\n",
    "len(emma)"
   ]
  },
  {
   "cell_type": "markdown",
   "metadata": {},
   "source": [
    "### 2. How many total unique words are in the corpus?"
   ]
  },
  {
   "cell_type": "code",
   "execution_count": 4,
   "metadata": {},
   "outputs": [
    {
     "data": {
      "text/plain": [
       "7079"
      ]
     },
     "execution_count": 4,
     "metadata": {},
     "output_type": "execute_result"
    }
   ],
   "source": [
    "len(set(w.lower() for w in emma if w.isalpha()))"
   ]
  },
  {
   "cell_type": "code",
   "execution_count": 5,
   "metadata": {},
   "outputs": [
    {
     "name": "stdout",
     "output_type": "stream",
     "text": [
      "<FreqDist with 7079 samples and 161600 outcomes>\n"
     ]
    }
   ],
   "source": [
    "words = [w.lower() for w in emma if w.isalpha()]\n",
    "freqdis = nltk.FreqDist(words)\n",
    "print(freqdis)"
   ]
  },
  {
   "cell_type": "code",
   "execution_count": 6,
   "metadata": {},
   "outputs": [
    {
     "name": "stdout",
     "output_type": "stream",
     "text": [
      "     0     1\n",
      "0   to  5239\n",
      "1  the  5201\n",
      "2  and  4896\n",
      "3   of  4291\n",
      "4    i  3178\n",
      "5    a  3129\n",
      "6   it  2528\n",
      "7  her  2469\n",
      "8  was  2398\n",
      "9  she  2340\n"
     ]
    }
   ],
   "source": [
    "freqdis_df=pd.DataFrame(freqdis.most_common(500))\n",
    "print(freqdis_df.head(10))"
   ]
  },
  {
   "cell_type": "code",
   "execution_count": 7,
   "metadata": {},
   "outputs": [],
   "source": [
    "freqdis_df.columns=['word','frequency']\n",
    "freqdis_df['cumulative frequency']=np.cumsum(freqdis_df['frequency'])"
   ]
  },
  {
   "cell_type": "markdown",
   "metadata": {},
   "source": [
    "### 3. Taking the most common words, how many unique words represent half of the total words in the corpus?"
   ]
  },
  {
   "cell_type": "code",
   "execution_count": 8,
   "metadata": {},
   "outputs": [
    {
     "data": {
      "text/plain": [
       "55"
      ]
     },
     "execution_count": 8,
     "metadata": {},
     "output_type": "execute_result"
    }
   ],
   "source": [
    "(freqdis_df['cumulative frequency'] >= (161600/2)).idxmax()"
   ]
  },
  {
   "cell_type": "markdown",
   "metadata": {},
   "source": [
    "### 4. Identify the 200 highest frequency words in this corpus."
   ]
  },
  {
   "cell_type": "code",
   "execution_count": 9,
   "metadata": {},
   "outputs": [
    {
     "data": {
      "text/plain": [
       "[('to', 5239),\n",
       " ('the', 5201),\n",
       " ('and', 4896),\n",
       " ('of', 4291),\n",
       " ('i', 3178),\n",
       " ('a', 3129),\n",
       " ('it', 2528),\n",
       " ('her', 2469),\n",
       " ('was', 2398),\n",
       " ('she', 2340),\n",
       " ('in', 2188),\n",
       " ('not', 2140),\n",
       " ('you', 1980),\n",
       " ('be', 1975),\n",
       " ('that', 1806),\n",
       " ('he', 1806),\n",
       " ('had', 1624),\n",
       " ('but', 1441),\n",
       " ('as', 1436),\n",
       " ('for', 1347),\n",
       " ('have', 1320),\n",
       " ('is', 1240),\n",
       " ('with', 1217),\n",
       " ('very', 1202),\n",
       " ('mr', 1153),\n",
       " ('his', 1145),\n",
       " ('at', 1031),\n",
       " ('so', 974),\n",
       " ('s', 935),\n",
       " ('emma', 865),\n",
       " ('all', 845),\n",
       " ('could', 837),\n",
       " ('would', 820),\n",
       " ('been', 759),\n",
       " ('him', 759),\n",
       " ('no', 742),\n",
       " ('my', 728),\n",
       " ('mrs', 699),\n",
       " ('on', 692),\n",
       " ('any', 654),\n",
       " ('do', 640),\n",
       " ('were', 600),\n",
       " ('miss', 599),\n",
       " ('me', 573),\n",
       " ('by', 571),\n",
       " ('will', 570),\n",
       " ('must', 567),\n",
       " ('which', 556),\n",
       " ('there', 549),\n",
       " ('from', 546),\n",
       " ('they', 540),\n",
       " ('what', 536),\n",
       " ('this', 526),\n",
       " ('harriet', 506),\n",
       " ('or', 494),\n",
       " ('such', 489),\n",
       " ('much', 486),\n",
       " ('if', 485),\n",
       " ('said', 484),\n",
       " ('more', 467),\n",
       " ('an', 464),\n",
       " ('are', 455),\n",
       " ('one', 452),\n",
       " ('weston', 440),\n",
       " ('every', 435),\n",
       " ('them', 432),\n",
       " ('am', 425),\n",
       " ('than', 415),\n",
       " ('well', 401),\n",
       " ('thing', 398),\n",
       " ('knightley', 389),\n",
       " ('elton', 385),\n",
       " ('think', 383),\n",
       " ('how', 371),\n",
       " ('should', 369),\n",
       " ('your', 364),\n",
       " ('when', 363),\n",
       " ('little', 359),\n",
       " ('being', 358),\n",
       " ('never', 358),\n",
       " ('good', 358),\n",
       " ('did', 352),\n",
       " ('we', 349),\n",
       " ('only', 341),\n",
       " ('know', 337),\n",
       " ('might', 326),\n",
       " ('woodhouse', 313),\n",
       " ('say', 310),\n",
       " ('now', 309),\n",
       " ('their', 306),\n",
       " ('jane', 301),\n",
       " ('own', 301),\n",
       " ('who', 294),\n",
       " ('can', 284),\n",
       " ('quite', 282),\n",
       " ('herself', 279),\n",
       " ('time', 279),\n",
       " ('great', 264),\n",
       " ('some', 262),\n",
       " ('nothing', 256),\n",
       " ('too', 254),\n",
       " ('before', 250),\n",
       " ('has', 250),\n",
       " ('about', 249),\n",
       " ('most', 248),\n",
       " ('dear', 241),\n",
       " ('fairfax', 241),\n",
       " ('always', 238),\n",
       " ('man', 235),\n",
       " ('thought', 226),\n",
       " ('soon', 224),\n",
       " ('churchill', 224),\n",
       " ('see', 222),\n",
       " ('other', 221),\n",
       " ('may', 221),\n",
       " ('again', 219),\n",
       " ('shall', 217),\n",
       " ('without', 214),\n",
       " ('out', 212),\n",
       " ('first', 209),\n",
       " ('frank', 208),\n",
       " ('father', 207),\n",
       " ('sure', 204),\n",
       " ('indeed', 202),\n",
       " ('like', 200),\n",
       " ('made', 199),\n",
       " ('body', 193),\n",
       " ('ever', 193),\n",
       " ('oh', 193),\n",
       " ('day', 192),\n",
       " ('young', 192),\n",
       " ('up', 190),\n",
       " ('two', 178),\n",
       " ('friend', 177),\n",
       " ('though', 177),\n",
       " ('better', 173),\n",
       " ('come', 172),\n",
       " ('then', 169),\n",
       " ('just', 165),\n",
       " ('into', 163),\n",
       " ('after', 161),\n",
       " ('hartfield', 160),\n",
       " ('give', 159),\n",
       " ('upon', 159),\n",
       " ('way', 155),\n",
       " ('here', 154),\n",
       " ('really', 153),\n",
       " ('make', 152),\n",
       " ('bates', 148),\n",
       " ('having', 147),\n",
       " ('long', 146),\n",
       " ('rather', 146),\n",
       " ('himself', 146),\n",
       " ('us', 145),\n",
       " ('hope', 143),\n",
       " ('done', 142),\n",
       " ('cannot', 142),\n",
       " ('seemed', 141),\n",
       " ('over', 139),\n",
       " ('away', 138),\n",
       " ('many', 138),\n",
       " ('poor', 136),\n",
       " ('wish', 135),\n",
       " ('while', 133),\n",
       " ('even', 132),\n",
       " ('go', 132),\n",
       " ('woman', 131),\n",
       " ('however', 131),\n",
       " ('home', 130),\n",
       " ('does', 130),\n",
       " ('enough', 129),\n",
       " ('mind', 128),\n",
       " ('happy', 125),\n",
       " ('highbury', 125),\n",
       " ('yes', 125),\n",
       " ('its', 122),\n",
       " ('look', 121),\n",
       " ('going', 120),\n",
       " ('heard', 120),\n",
       " ('moment', 120),\n",
       " ('came', 119),\n",
       " ('last', 119),\n",
       " ('take', 119),\n",
       " ('half', 118),\n",
       " ('love', 117),\n",
       " ('room', 117),\n",
       " ('pleasure', 115),\n",
       " ('still', 115),\n",
       " ('another', 114),\n",
       " ('felt', 113),\n",
       " ('something', 113),\n",
       " ('sort', 112),\n",
       " ('morning', 111),\n",
       " ('yet', 109),\n",
       " ('letter', 109),\n",
       " ('saw', 108),\n",
       " ('few', 106),\n",
       " ('myself', 103),\n",
       " ('till', 102),\n",
       " ('believe', 102)]"
      ]
     },
     "execution_count": 9,
     "metadata": {},
     "output_type": "execute_result"
    }
   ],
   "source": [
    "freqdis.most_common(200)"
   ]
  },
  {
   "cell_type": "markdown",
   "metadata": {},
   "source": [
    "### 5. Create a graph that shows the relative frequency of these 200 words."
   ]
  },
  {
   "cell_type": "code",
   "execution_count": 18,
   "metadata": {},
   "outputs": [
    {
     "data": {
      "image/png": "[encoded data removed]",
      "text/plain": [
       "<Figure size 432x288 with 1 Axes>"
      ]
     },
     "metadata": {
      "needs_background": "light"
     },
     "output_type": "display_data"
    },
    {
     "data": {
      "text/plain": [
       "<matplotlib.axes._subplots.AxesSubplot at 0x7f513403e630>"
      ]
     },
     "execution_count": 18,
     "metadata": {},
     "output_type": "execute_result"
    }
   ],
   "source": [
    "freqdis.plot(200, cumulative=True)"
   ]
  },
  {
   "cell_type": "markdown",
   "metadata": {},
   "source": [
    "### 6. Does the observed relative frequency of these words follow Zipf’s law? Explain."
   ]
  },
  {
   "cell_type": "code",
   "execution_count": null,
   "metadata": {},
   "outputs": [],
   "source": [
    "freqdis_df['proportion of words'] = (freqdis_df['frequency']/161600)*100"
   ]
  },
  {
   "cell_type": "code",
   "execution_count": 19,
   "metadata": {},
   "outputs": [
    {
     "data": {
      "text/html": [
       "<div>\n",
       "<style scoped>\n",
       "    .dataframe tbody tr th:only-of-type {\n",
       "        vertical-align: middle;\n",
       "    }\n",
       "\n",
       "    .dataframe tbody tr th {\n",
       "        vertical-align: top;\n",
       "    }\n",
       "\n",
       "    .dataframe thead th {\n",
       "        text-align: right;\n",
       "    }\n",
       "</style>\n",
       "<table border=\"1\" class=\"dataframe\">\n",
       "  <thead>\n",
       "    <tr style=\"text-align: right;\">\n",
       "      <th></th>\n",
       "      <th>word</th>\n",
       "      <th>frequency</th>\n",
       "      <th>cumulative frequency</th>\n",
       "    </tr>\n",
       "  </thead>\n",
       "  <tbody>\n",
       "    <tr>\n",
       "      <th>0</th>\n",
       "      <td>to</td>\n",
       "      <td>5239</td>\n",
       "      <td>5239</td>\n",
       "    </tr>\n",
       "    <tr>\n",
       "      <th>1</th>\n",
       "      <td>the</td>\n",
       "      <td>5201</td>\n",
       "      <td>10440</td>\n",
       "    </tr>\n",
       "    <tr>\n",
       "      <th>2</th>\n",
       "      <td>and</td>\n",
       "      <td>4896</td>\n",
       "      <td>15336</td>\n",
       "    </tr>\n",
       "    <tr>\n",
       "      <th>3</th>\n",
       "      <td>of</td>\n",
       "      <td>4291</td>\n",
       "      <td>19627</td>\n",
       "    </tr>\n",
       "    <tr>\n",
       "      <th>4</th>\n",
       "      <td>i</td>\n",
       "      <td>3178</td>\n",
       "      <td>22805</td>\n",
       "    </tr>\n",
       "    <tr>\n",
       "      <th>5</th>\n",
       "      <td>a</td>\n",
       "      <td>3129</td>\n",
       "      <td>25934</td>\n",
       "    </tr>\n",
       "    <tr>\n",
       "      <th>6</th>\n",
       "      <td>it</td>\n",
       "      <td>2528</td>\n",
       "      <td>28462</td>\n",
       "    </tr>\n",
       "    <tr>\n",
       "      <th>7</th>\n",
       "      <td>her</td>\n",
       "      <td>2469</td>\n",
       "      <td>30931</td>\n",
       "    </tr>\n",
       "    <tr>\n",
       "      <th>8</th>\n",
       "      <td>was</td>\n",
       "      <td>2398</td>\n",
       "      <td>33329</td>\n",
       "    </tr>\n",
       "    <tr>\n",
       "      <th>9</th>\n",
       "      <td>she</td>\n",
       "      <td>2340</td>\n",
       "      <td>35669</td>\n",
       "    </tr>\n",
       "    <tr>\n",
       "      <th>10</th>\n",
       "      <td>in</td>\n",
       "      <td>2188</td>\n",
       "      <td>37857</td>\n",
       "    </tr>\n",
       "    <tr>\n",
       "      <th>11</th>\n",
       "      <td>not</td>\n",
       "      <td>2140</td>\n",
       "      <td>39997</td>\n",
       "    </tr>\n",
       "    <tr>\n",
       "      <th>12</th>\n",
       "      <td>you</td>\n",
       "      <td>1980</td>\n",
       "      <td>41977</td>\n",
       "    </tr>\n",
       "    <tr>\n",
       "      <th>13</th>\n",
       "      <td>be</td>\n",
       "      <td>1975</td>\n",
       "      <td>43952</td>\n",
       "    </tr>\n",
       "    <tr>\n",
       "      <th>14</th>\n",
       "      <td>that</td>\n",
       "      <td>1806</td>\n",
       "      <td>45758</td>\n",
       "    </tr>\n",
       "    <tr>\n",
       "      <th>15</th>\n",
       "      <td>he</td>\n",
       "      <td>1806</td>\n",
       "      <td>47564</td>\n",
       "    </tr>\n",
       "    <tr>\n",
       "      <th>16</th>\n",
       "      <td>had</td>\n",
       "      <td>1624</td>\n",
       "      <td>49188</td>\n",
       "    </tr>\n",
       "    <tr>\n",
       "      <th>17</th>\n",
       "      <td>but</td>\n",
       "      <td>1441</td>\n",
       "      <td>50629</td>\n",
       "    </tr>\n",
       "    <tr>\n",
       "      <th>18</th>\n",
       "      <td>as</td>\n",
       "      <td>1436</td>\n",
       "      <td>52065</td>\n",
       "    </tr>\n",
       "  </tbody>\n",
       "</table>\n",
       "</div>"
      ],
      "text/plain": [
       "    word  frequency  cumulative frequency\n",
       "0     to       5239                  5239\n",
       "1    the       5201                 10440\n",
       "2    and       4896                 15336\n",
       "3     of       4291                 19627\n",
       "4      i       3178                 22805\n",
       "5      a       3129                 25934\n",
       "6     it       2528                 28462\n",
       "7    her       2469                 30931\n",
       "8    was       2398                 33329\n",
       "9    she       2340                 35669\n",
       "10    in       2188                 37857\n",
       "11   not       2140                 39997\n",
       "12   you       1980                 41977\n",
       "13    be       1975                 43952\n",
       "14  that       1806                 45758\n",
       "15    he       1806                 47564\n",
       "16   had       1624                 49188\n",
       "17   but       1441                 50629\n",
       "18    as       1436                 52065"
      ]
     },
     "execution_count": 19,
     "metadata": {},
     "output_type": "execute_result"
    }
   ],
   "source": [
    "freqdis_df[0:19]"
   ]
  },
  {
   "cell_type": "markdown",
   "metadata": {},
   "source": [
    "According to wolfram.com, \"Zipf's law states that the frequency of words in natural languages is approximately inversely proportional to their rank (or frequency of use). This Demonstration compares Zipf's law for natural language texts to that of randomized versions of these texts, obtained by either randomly permuting all characters (including spaces) of the text, or by applying a transposition cipher to the text. In most cases, the fit of Zipf's law for the randomized versions is similar to that of the original texts.\".  This corpus does not seem to follow Zipf's law, where basically the first word would appear double the sencond word, etc. "
   ]
  },
  {
   "cell_type": "markdown",
   "metadata": {},
   "source": [
    "### 7. In what ways do you think the frequency of the words in this corpus differ from “all words in all corpora.”\n"
   ]
  },
  {
   "cell_type": "markdown",
   "metadata": {},
   "source": [
    "The frequency of the words in this corpus,we think, is similar to that of other text.  The most common words in this novel include: to, the, i, a, it, was.  According to https://en.wikipedia.org/wiki/Most_common_words_in_English, these words are similar to that of the \"most common words\" "
   ]
  },
  {
   "cell_type": "code",
   "execution_count": null,
   "metadata": {},
   "outputs": [],
   "source": []
  }
 ],
 "metadata": {
  "kernelspec": {
   "display_name": "Python 3",
   "language": "python",
   "name": "python3"
  },
  "language_info": {
   "codemirror_mode": {
    "name": "ipython",
    "version": 3
   },
   "file_extension": ".py",
   "mimetype": "text/x-python",
   "name": "python",
   "nbconvert_exporter": "python",
   "pygments_lexer": "ipython3",
   "version": "3.6.7"
  }
 },
 "nbformat": 4,
 "nbformat_minor": 2
}
